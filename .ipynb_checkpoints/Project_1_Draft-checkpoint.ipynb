{
 "cells": [
  {
   "cell_type": "code",
   "execution_count": 1,
   "id": "08db4d0a-ae86-43be-9fa2-70ca865df80c",
   "metadata": {},
   "outputs": [
    {
     "name": "stdout",
     "output_type": "stream",
     "text": [
      "Requirement already satisfied: statsmodels in /Users/scottpetersen/opt/miniconda3/lib/python3.9/site-packages (0.14.0)\n",
      "Requirement already satisfied: numpy>=1.18 in /Users/scottpetersen/opt/miniconda3/lib/python3.9/site-packages (from statsmodels) (1.26.4)\n",
      "Requirement already satisfied: scipy!=1.9.2,>=1.4 in /Users/scottpetersen/opt/miniconda3/lib/python3.9/site-packages (from statsmodels) (1.11.4)\n",
      "Requirement already satisfied: pandas>=1.0 in /Users/scottpetersen/opt/miniconda3/lib/python3.9/site-packages (from statsmodels) (2.2.1)\n",
      "Requirement already satisfied: patsy>=0.5.2 in /Users/scottpetersen/opt/miniconda3/lib/python3.9/site-packages (from statsmodels) (0.5.3)\n",
      "Requirement already satisfied: packaging>=21.3 in /Users/scottpetersen/opt/miniconda3/lib/python3.9/site-packages (from statsmodels) (23.1)\n",
      "Requirement already satisfied: python-dateutil>=2.8.2 in /Users/scottpetersen/opt/miniconda3/lib/python3.9/site-packages (from pandas>=1.0->statsmodels) (2.8.2)\n",
      "Requirement already satisfied: pytz>=2020.1 in /Users/scottpetersen/opt/miniconda3/lib/python3.9/site-packages (from pandas>=1.0->statsmodels) (2023.3.post1)\n",
      "Requirement already satisfied: tzdata>=2022.7 in /Users/scottpetersen/opt/miniconda3/lib/python3.9/site-packages (from pandas>=1.0->statsmodels) (2023.3)\n",
      "Requirement already satisfied: six in /Users/scottpetersen/opt/miniconda3/lib/python3.9/site-packages (from patsy>=0.5.2->statsmodels) (1.16.0)\n"
     ]
    }
   ],
   "source": [
    "!pip install statsmodels"
   ]
  },
  {
   "cell_type": "code",
   "execution_count": 2,
   "id": "5a42a46b-23c1-4100-9f01-78d3c1ad3772",
   "metadata": {},
   "outputs": [
    {
     "name": "stdout",
     "output_type": "stream",
     "text": [
      "Requirement already satisfied: scikit-learn in /Users/scottpetersen/opt/miniconda3/lib/python3.9/site-packages (1.3.0)\n",
      "Requirement already satisfied: numpy>=1.17.3 in /Users/scottpetersen/opt/miniconda3/lib/python3.9/site-packages (from scikit-learn) (1.26.4)\n",
      "Requirement already satisfied: scipy>=1.5.0 in /Users/scottpetersen/opt/miniconda3/lib/python3.9/site-packages (from scikit-learn) (1.11.4)\n",
      "Requirement already satisfied: joblib>=1.1.1 in /Users/scottpetersen/opt/miniconda3/lib/python3.9/site-packages (from scikit-learn) (1.2.0)\n",
      "Requirement already satisfied: threadpoolctl>=2.0.0 in /Users/scottpetersen/opt/miniconda3/lib/python3.9/site-packages (from scikit-learn) (2.2.0)\n"
     ]
    }
   ],
   "source": [
    "!pip install scikit-learn"
   ]
  },
  {
   "cell_type": "code",
   "execution_count": 3,
   "id": "fe74a2a1-a63b-4801-99a1-c615bcff9200",
   "metadata": {},
   "outputs": [
    {
     "name": "stdout",
     "output_type": "stream",
     "text": [
      "Collecting package metadata (current_repodata.json): done\n",
      "Solving environment: done\n",
      "\n",
      "\n",
      "==> WARNING: A newer version of conda exists. <==\n",
      "  current version: 22.9.0\n",
      "  latest version: 24.1.2\n",
      "\n",
      "Please update conda by running\n",
      "\n",
      "    $ conda update -n base -c defaults conda\n",
      "\n",
      "\n",
      "\n",
      "# All requested packages already installed.\n",
      "\n",
      "Retrieving notices: ...working... done\n",
      "\n",
      "Note: you may need to restart the kernel to use updated packages.\n"
     ]
    }
   ],
   "source": [
    "conda install xgboost"
   ]
  },
  {
   "cell_type": "code",
   "execution_count": 7,
   "id": "4f4ea20a-1b91-49e8-b8e9-f6ff4cb1dadc",
   "metadata": {},
   "outputs": [],
   "source": [
    "import pandas as pd\n",
    "import numpy as np\n",
    "import matplotlib.pyplot as plt\n",
    "import random\n",
    "import statsmodels.api as sm\n",
    "from statsmodels.iolib.summary2 import summary_col\n",
    "from math import sqrt\n",
    "from datetime import datetime\n",
    "\n",
    "from sklearn.model_selection import train_test_split\n",
    "from sklearn.model_selection import GridSearchCV\n",
    "from sklearn.metrics import mean_squared_error\n",
    "from sklearn.linear_model import Lasso, LassoCV\n",
    "from sklearn.linear_model import Ridge, RidgeCV\n",
    "from sklearn.preprocessing import normalize\n",
    "import scipy.cluster.hierarchy as shc\n",
    "from sklearn.cluster import AgglomerativeClustering\n",
    "from sklearn.cluster import KMeans\n",
    "from sklearn.decomposition import PCA\n",
    "\n",
    "from sklearn.linear_model import LogisticRegression\n",
    "from sklearn.linear_model import LinearRegression\n",
    "from sklearn.metrics import classification_report, confusion_matrix\n",
    "from sklearn.neural_network import MLPClassifier\n",
    "from sklearn.metrics import accuracy_score\n",
    "from sklearn.preprocessing import StandardScaler\n",
    "from sklearn.pipeline import make_pipeline"
   ]
  },
  {
   "cell_type": "markdown",
   "id": "180debf4-3522-4784-a1e6-689ff2b81a7e",
   "metadata": {},
   "source": [
    "It's unclear whether or not initializing a random seed will be of use yet, but I'm leaving it here for now."
   ]
  },
  {
   "cell_type": "code",
   "execution_count": 8,
   "id": "012c06eb-3c4d-420d-8374-493b413d02ea",
   "metadata": {},
   "outputs": [],
   "source": [
    "import random\n",
    "\n",
    "#Use a random variable to initialize the seed.\n",
    "random.seed(1680)"
   ]
  },
  {
   "cell_type": "markdown",
   "id": "523b3386-79c9-48ec-9b47-f9c1de8b658a",
   "metadata": {},
   "source": [
    "Use pandas to read in the CSVs to get the relevant dataframes."
   ]
  },
  {
   "cell_type": "code",
   "execution_count": 13,
   "id": "aa159d77-e6e8-4faa-8375-5d2484ed86f5",
   "metadata": {},
   "outputs": [],
   "source": [
    "# Read the cab rides and weather data, using the absolute path and pandas to create the dataframes\n",
    "cab_df = pd.read_csv(\"/Users/scottpetersen/Desktop/ECON1680/ECON1680-Project-1-Scott-Petersen/Project_1_Draft_Data/cab_rides.csv\")\n",
    "weather_df = pd.read_csv(\"/Users/scottpetersen/Desktop/ECON1680/ECON1680-Project-1-Scott-Petersen/Project_1_Draft_Data/weather.csv\")"
   ]
  },
  {
   "cell_type": "markdown",
   "id": "39bdb915-5625-4593-89e3-1faf7f434c6f",
   "metadata": {},
   "source": [
    "The data for Uber and Lyfts has the following variables: distance, cab_type, time_stamp, destination, location, price, surge_multiplier, id, product_id, name, and date_time. "
   ]
  },
  {
   "cell_type": "code",
   "execution_count": 14,
   "id": "02c38874-e328-4176-b425-53a65dfc1eb8",
   "metadata": {},
   "outputs": [
    {
     "name": "stdout",
     "output_type": "stream",
     "text": [
      "   distance cab_type     time_stamp    destination            source  price  \\\n",
      "0      0.44     Lyft  1544952607890  North Station  Haymarket Square    5.0   \n",
      "1      0.44     Lyft  1543284023677  North Station  Haymarket Square   11.0   \n",
      "2      0.44     Lyft  1543366822198  North Station  Haymarket Square    7.0   \n",
      "3      0.44     Lyft  1543553582749  North Station  Haymarket Square   26.0   \n",
      "4      0.44     Lyft  1543463360223  North Station  Haymarket Square    9.0   \n",
      "\n",
      "   surge_multiplier                                    id    product_id  \\\n",
      "0               1.0  424553bb-7174-41ea-aeb4-fe06d4f4b9d7     lyft_line   \n",
      "1               1.0  4bd23055-6827-41c6-b23b-3c491f24e74d  lyft_premier   \n",
      "2               1.0  981a3613-77af-4620-a42a-0c0866077d1e          lyft   \n",
      "3               1.0  c2d88af2-d278-4bfd-a8d0-29ca77cc5512   lyft_luxsuv   \n",
      "4               1.0  e0126e1f-8ca9-4f2e-82b3-50505a09db9a     lyft_plus   \n",
      "\n",
      "           name  \n",
      "0        Shared  \n",
      "1           Lux  \n",
      "2          Lyft  \n",
      "3  Lux Black XL  \n",
      "4       Lyft XL  \n"
     ]
    }
   ],
   "source": [
    "print(cab_df.head())"
   ]
  },
  {
   "cell_type": "markdown",
   "id": "f2f33bf9-c913-453d-a4dc-c0f4bd9383ac",
   "metadata": {},
   "source": [
    "The data for weather has the following variables: temp, location, clouds, pressure, rain, time_stamp. Since data was only collected during one week in November, I am inclined not to use the temp variable. In addition, it may overlap with a 'late_night' variable that I am planning to use because low temperatures are related to the time of day, causing multicollinearity. For that reason, I will only be using the "
   ]
  },
  {
   "cell_type": "code",
   "execution_count": 15,
   "id": "1a1b4551-b313-496c-a0fa-e66110ffd5f7",
   "metadata": {},
   "outputs": [
    {
     "name": "stdout",
     "output_type": "stream",
     "text": [
      "    temp            location  clouds  pressure    rain  time_stamp  humidity  \\\n",
      "0  42.42            Back Bay     1.0   1012.14  0.1228  1545003901      0.77   \n",
      "1  42.43         Beacon Hill     1.0   1012.15  0.1846  1545003901      0.76   \n",
      "2  42.50   Boston University     1.0   1012.15  0.1089  1545003901      0.76   \n",
      "3  42.11              Fenway     1.0   1012.13  0.0969  1545003901      0.77   \n",
      "4  43.13  Financial District     1.0   1012.14  0.1786  1545003901      0.75   \n",
      "\n",
      "    wind  \n",
      "0  11.25  \n",
      "1  11.32  \n",
      "2  11.07  \n",
      "3  11.09  \n",
      "4  11.49  \n"
     ]
    }
   ],
   "source": [
    "print(weather_df.head())"
   ]
  },
  {
   "cell_type": "markdown",
   "id": "bd387b3d-1dc0-48d5-8a23-ca817b555fa9",
   "metadata": {},
   "source": [
    "pd.to_datetime can help to handle the current date/time variables which are stored in epochs. The cab_df dataframe has the epochs multiplied by 1000. \n",
    "\n",
    "Note: This code was found posted by Fatemeh Ansarirad on Kaggle. I am not sure what the policy is for borrowing code, but I am citing her here and I will also cite her in my report. This is the only piece of code I have used from someone else and it is only for merging because I was struggling to figure it out. If this is against course policy, I will delete it and rewrite it somehow. \n",
    "https://www.kaggle.com/code/fatemehansarirad/taxicab-s-price-prediction "
   ]
  },
  {
   "cell_type": "code",
   "execution_count": 16,
   "id": "61eee50e-bcf0-4cb9-9f1d-b702c4c6f84b",
   "metadata": {},
   "outputs": [],
   "source": [
    "weather_df['time_stamp']=[datetime.fromtimestamp(i) for i in weather_df['time_stamp']]\n",
    "weather_df['time_stamp']=weather_df['time_stamp'].values.astype('datetime64[h]')\n",
    "\n",
    "cab_df['time_stamp']=[datetime.fromtimestamp(i/1000.0) for i in cab_df['time_stamp']]\n",
    "cab_df['time_stamp']=cab_df['time_stamp'].values.astype('datetime64[h]')\n",
    "cab_df.rename(columns={'source':'location'},inplace=True)\n",
    "\n",
    "weather_df.drop_duplicates(['time_stamp','location'],inplace=True)"
   ]
  },
  {
   "cell_type": "markdown",
   "id": "ffa271f6-5f85-4060-9e40-bca87af38eff",
   "metadata": {},
   "source": [
    "Merge dataframes on location and time using pd.merge."
   ]
  },
  {
   "cell_type": "code",
   "execution_count": 17,
   "id": "3f1dce40-94b0-4183-9a39-4279ad34155f",
   "metadata": {},
   "outputs": [],
   "source": [
    "#This merges the data on the variables of both location and time. So far, I am uninterested\n",
    "#in using location as a variable because it is local data and I want to understand broader trends.\n",
    "#However, it may be necessary to control for this variable later on.\n",
    "merged_df=pd.merge(cab_df,weather_df,on=['location','time_stamp'])"
   ]
  },
  {
   "cell_type": "markdown",
   "id": "316b573d-5216-4fa7-b141-0482b27f062a",
   "metadata": {},
   "source": [
    "Finally, it's important to control for the type of uber because it affects the price. "
   ]
  },
  {
   "cell_type": "code",
   "execution_count": 51,
   "id": "420c0d54-4857-4d25-8abb-507b9042f085",
   "metadata": {},
   "outputs": [],
   "source": [
    "# Create dummy variables for the 'name' column\n",
    "type_dummies = pd.get_dummies(merged_df['name'])\n",
    "\n",
    "# Concatenate the original DataFrame with the dummy variables\n",
    "merged_df = pd.concat([merged_df, type_dummies], axis=1)\n",
    "\n",
    "#print(merged_df.shape[0])"
   ]
  },
  {
   "cell_type": "markdown",
   "id": "ad919618-4cff-4e69-a2e1-aa530771ca2e",
   "metadata": {},
   "source": [
    "There are missing values in the price column so we fill them with the mean price for all of the prices."
   ]
  },
  {
   "cell_type": "code",
   "execution_count": 52,
   "id": "98950c0d-0298-4d9f-8a3c-d782bfd78658",
   "metadata": {},
   "outputs": [
    {
     "name": "stderr",
     "output_type": "stream",
     "text": [
      "/var/folders/_z/7tyw1x853jj7wj3lmv6mmbbw0000gn/T/ipykernel_79291/4089667505.py:3: FutureWarning: A value is trying to be set on a copy of a DataFrame or Series through chained assignment using an inplace method.\n",
      "The behavior will change in pandas 3.0. This inplace method will never work because the intermediate object on which we are setting values always behaves as a copy.\n",
      "\n",
      "For example, when doing 'df[col].method(value, inplace=True)', try using 'df.method({col: value}, inplace=True)' or df[col] = df[col].method(value) instead, to perform the operation inplace on the original object.\n",
      "\n",
      "\n",
      "  merged_df['price'].fillna(merged_df['price'].mean(), inplace=True)\n"
     ]
    }
   ],
   "source": [
    "#Use fillna to modify the original dataframe by filling in missing values with the average cab price\n",
    "#Should I be controlling for cab type prior to running this line?\n",
    "merged_df['price'].fillna(merged_df['price'].mean(), inplace=True)"
   ]
  },
  {
   "cell_type": "markdown",
   "id": "4457992a-4213-4a4b-ad88-d0faea7d294b",
   "metadata": {},
   "source": [
    "We also fill missing rain values with 0. "
   ]
  },
  {
   "cell_type": "code",
   "execution_count": 53,
   "id": "b0f35777-2219-4f9c-8b74-a117eadfadad",
   "metadata": {},
   "outputs": [
    {
     "name": "stderr",
     "output_type": "stream",
     "text": [
      "/var/folders/_z/7tyw1x853jj7wj3lmv6mmbbw0000gn/T/ipykernel_79291/1007053784.py:2: FutureWarning: A value is trying to be set on a copy of a DataFrame or Series through chained assignment using an inplace method.\n",
      "The behavior will change in pandas 3.0. This inplace method will never work because the intermediate object on which we are setting values always behaves as a copy.\n",
      "\n",
      "For example, when doing 'df[col].method(value, inplace=True)', try using 'df.method({col: value}, inplace=True)' or df[col] = df[col].method(value) instead, to perform the operation inplace on the original object.\n",
      "\n",
      "\n",
      "  merged_df['rain'].fillna(0, inplace=True)\n"
     ]
    }
   ],
   "source": [
    "#Use fillna to modify the original dataframe by filling in missing rain values with 0\n",
    "merged_df['rain'].fillna(0, inplace=True)"
   ]
  },
  {
   "cell_type": "markdown",
   "id": "ef08d102-8838-4891-87a1-27847a765026",
   "metadata": {},
   "source": [
    "Here, we need to normalize the price. Uber and Lyft rides have different distances and durations which factors into the cost. Sadly, ride duration is not an available variable, but we can divide the distance by the price to get an approximately normalized price.  "
   ]
  },
  {
   "cell_type": "code",
   "execution_count": 54,
   "id": "1a8c2838-526e-4a2c-ac17-005b7e562a78",
   "metadata": {},
   "outputs": [],
   "source": [
    "# Normalize price data by dividing price by distance\n",
    "merged_df['normalized_price'] = merged_df['price'] / merged_df['distance']"
   ]
  },
  {
   "cell_type": "markdown",
   "id": "ce140e08-d242-4287-9b3e-47b9e2e102c8",
   "metadata": {},
   "source": [
    "To determine when prices are high, a lot of time-based variables are necessary. I am not interested in day of the week as a variable because I want to be able to generalize the recommendation for when to get a cab (ie avoid rush hour, beware of weekends). I may choose to return to it later. It is also not useful to include every day of the week as a variable because of multicollinearity issues, so instead, dummy variables will be used to single out specific windows of time that do not overlap. However, I will add a graph here to show the relationship between time and cab prices."
   ]
  },
  {
   "cell_type": "code",
   "execution_count": 59,
   "id": "52eb2b7c-55f6-4722-8c60-a5178cba9606",
   "metadata": {},
   "outputs": [
    {
     "data": {
      "image/png": "[encoded data removed]",
      "text/plain": [
       "<Figure size 640x480 with 1 Axes>"
      ]
     },
     "metadata": {},
     "output_type": "display_data"
    }
   ],
   "source": [
    "#Create a new column for each day of the week\n",
    "merged_df['day_of_week'] = merged_df['time_stamp'].dt.dayofweek\n",
    "\n",
    "#Creates the average price per day of an Uber\n",
    "mean_prices_by_day = merged_df.groupby('day_of_week')['price'].mean()\n",
    "\n",
    "# Plotting the data\n",
    "mean_prices_by_day.plot(kind='line', marker='o', color='b')\n",
    "plt.title('Average Cab Price by Day of the Week')\n",
    "plt.xlabel('Day of the Week')\n",
    "plt.ylabel('Average Cab Price ($)')\n",
    "plt.xticks(range(7), ['Mon', 'Tue', 'Wed', 'Thu', 'Fri', 'Sat', 'Sun'])\n",
    "plt.grid(True)\n",
    "plt.show()"
   ]
  },
  {
   "cell_type": "markdown",
   "id": "16d1a0db-30c3-4d68-bc58-e6fd126c9901",
   "metadata": {},
   "source": [
    "Here is the code for rush hour. Rush hour is the period from 8 AM to noon and 4 PM to 6 PM. I am only counting rush hour on weekdays to avoid overlap with the weekend variable."
   ]
  },
  {
   "cell_type": "code",
   "execution_count": 40,
   "id": "194fba21-a0f2-4006-9b79-bf7a99ce1d97",
   "metadata": {},
   "outputs": [],
   "source": [
    "#Creates a new dummy variable with the specifications listed above\n",
    "merged_df['rush_hour'] = (\n",
    "    (((merged_df['time_stamp'].dt.dayofweek >= 0) & (merged_df['time_stamp'].dt.dayofweek <= 4)) &\n",
    "     (((merged_df['time_stamp'].dt.hour >= 8) & (merged_df['time_stamp'].dt.hour < 12)) |\n",
    "      ((merged_df['time_stamp'].dt.hour >= 16) & (merged_df['time_stamp'].dt.hour < 18))))\n",
    ").astype(int)"
   ]
  },
  {
   "cell_type": "markdown",
   "id": "44d6671d-0a00-4c3d-b6d5-fb2cd2e114d1",
   "metadata": {},
   "source": [
    "Late night is every single day from 10 PM to 6 AM. This does not overlap with any other variables."
   ]
  },
  {
   "cell_type": "code",
   "execution_count": 23,
   "id": "065048e6-c494-4640-845f-78e35ae554ce",
   "metadata": {},
   "outputs": [],
   "source": [
    "#Creates a new dummy variable given the time specs above. \n",
    "merged_df['late_night'] = ((merged_df['time_stamp'].dt.hour >= 22) | (merged_df['time_stamp'].dt.hour < 6)).astype(int)"
   ]
  },
  {
   "cell_type": "markdown",
   "id": "cc818c0d-36c0-4e94-bb7b-b386ae888105",
   "metadata": {},
   "source": [
    "Weekend is Fridays after 6 PM and until 10 PM, Saturdays from 6 AM until 10PM, and Sundays from 6 AM until 10PM."
   ]
  },
  {
   "cell_type": "code",
   "execution_count": 39,
   "id": "9bcd8c78-a098-4350-8766-a3a62c06fbf8",
   "metadata": {},
   "outputs": [],
   "source": [
    "#Creates a new dummy variable with the specifications listed above\n",
    "merged_df['weekend'] = ((merged_df['time_stamp'].dt.dayofweek == 4) & (merged_df['time_stamp'].dt.hour >= 18)) | \\\n",
    "                       ((merged_df['time_stamp'].dt.dayofweek == 5) & ((6 <= merged_df['time_stamp'].dt.hour) & (merged_df['time_stamp'].dt.hour < 22))) | \\\n",
    "                       ((merged_df['time_stamp'].dt.dayofweek == 6) & ((6 <= merged_df['time_stamp'].dt.hour) & (merged_df['time_stamp'].dt.hour < 22))).astype(int)\n",
    "#Casts to float\n",
    "merged_df['weekend'] = merged_df['weekend'].astype(float)"
   ]
  },
  {
   "cell_type": "markdown",
   "id": "1acd580b-6687-4dc7-9e91-fc33a121d752",
   "metadata": {},
   "source": [
    "This is the dummy variable for heavy rain. Heavy rain is defined for now as any period where there is more than 0.1 inch in an hour. "
   ]
  },
  {
   "cell_type": "code",
   "execution_count": 25,
   "id": "8e97d79f-0b7d-467d-aebe-19974104b8a2",
   "metadata": {},
   "outputs": [],
   "source": [
    "#Creates a new dummy variable for rain with 0.1 (inches per hour) set as the threshold. \n",
    "merged_df['heavy_rain'] = (merged_df['rain'] > 0.1).astype(int)"
   ]
  },
  {
   "cell_type": "markdown",
   "id": "effc017d-5151-4785-a4ef-664d7e64aa2f",
   "metadata": {},
   "source": [
    "This is the code for an OLS regression. I have coded up multiple values of X and Y to show the differences between the effects of different variables on X and Y. This predicts the effects of 'rush_hour', 'late_night', 'weekend', 'heavy_rain' on 'normalized_price'."
   ]
  },
  {
   "cell_type": "code",
   "execution_count": 48,
   "id": "15f2c7cf-d0a2-4934-946e-e5012ac7e2b7",
   "metadata": {},
   "outputs": [
    {
     "name": "stdout",
     "output_type": "stream",
     "text": [
      "                                 OLS Regression Results                                \n",
      "=======================================================================================\n",
      "Dep. Variable:       normalized_price   R-squared (uncentered):                   0.226\n",
      "Model:                            OLS   Adj. R-squared (uncentered):              0.226\n",
      "Method:                 Least Squares   F-statistic:                          5.051e+04\n",
      "Date:                Fri, 08 Mar 2024   Prob (F-statistic):                        0.00\n",
      "Time:                        22:00:29   Log-Likelihood:                     -2.8613e+06\n",
      "No. Observations:              690107   AIC:                                  5.723e+06\n",
      "Df Residuals:                  690103   BIC:                                  5.723e+06\n",
      "Df Model:                           4                                                  \n",
      "Covariance Type:            nonrobust                                                  \n",
      "==============================================================================\n",
      "                 coef    std err          t      P>|t|      [0.025      0.975]\n",
      "------------------------------------------------------------------------------\n",
      "rush_hour      9.8273      0.042    235.075      0.000       9.745       9.909\n",
      "late_night     9.3913      0.033    284.448      0.000       9.327       9.456\n",
      "weekend        9.3266      0.040    233.469      0.000       9.248       9.405\n",
      "heavy_rain     6.3785      0.128     49.930      0.000       6.128       6.629\n",
      "==============================================================================\n",
      "Omnibus:                  1876059.497   Durbin-Watson:                   1.046\n",
      "Prob(Omnibus):                  0.000   Jarque-Bera (JB):     122295983030.595\n",
      "Skew:                          33.618   Prob(JB):                         0.00\n",
      "Kurtosis:                    2064.212   Cond. No.                         3.89\n",
      "==============================================================================\n",
      "\n",
      "Notes:\n",
      "[1] R² is computed without centering (uncentered) since the model does not contain a constant.\n",
      "[2] Standard Errors assume that the covariance matrix of the errors is correctly specified.\n"
     ]
    }
   ],
   "source": [
    "#Init two sets of variables for X and Y to run OLS\n",
    "X1 = merged_df[['rush_hour', 'late_night', 'weekend', 'heavy_rain']]\n",
    "X2 = merged_df[['rush_hour']]\n",
    "y1 = merged_df['normalized_price']\n",
    "y2 = merged_df['surge_multiplier']\n",
    "\n",
    "#Just adds the constant for the regression\n",
    "X = sm.add_constant(X1)\n",
    "\n",
    "#Uses fit with our variables to make a prediction\n",
    "model1 = sm.OLS(y1, X1).fit()\n",
    "\n",
    "print(model1.summary())\n",
    "#print(weather_df.shape[0])\n",
    "#print(merged_df.head(100))"
   ]
  },
  {
   "cell_type": "markdown",
   "id": "9e681491-8b44-4d52-b2f4-5095a36de76d",
   "metadata": {},
   "source": [
    "Regress only on 'surge_multiplier' with the same variables as before"
   ]
  },
  {
   "cell_type": "code",
   "execution_count": 49,
   "id": "4f5043ac-78b1-47c9-96f6-a737183e6f97",
   "metadata": {},
   "outputs": [
    {
     "name": "stdout",
     "output_type": "stream",
     "text": [
      "                                 OLS Regression Results                                \n",
      "=======================================================================================\n",
      "Dep. Variable:       surge_multiplier   R-squared (uncentered):                   0.701\n",
      "Model:                            OLS   Adj. R-squared (uncentered):              0.701\n",
      "Method:                 Least Squares   F-statistic:                          4.053e+05\n",
      "Date:                Fri, 08 Mar 2024   Prob (F-statistic):                        0.00\n",
      "Time:                        22:00:36   Log-Likelihood:                     -5.7446e+05\n",
      "No. Observations:              690107   AIC:                                  1.149e+06\n",
      "Df Residuals:                  690103   BIC:                                  1.149e+06\n",
      "Df Model:                           4                                                  \n",
      "Covariance Type:            nonrobust                                                  \n",
      "==============================================================================\n",
      "                 coef    std err          t      P>|t|      [0.025      0.975]\n",
      "------------------------------------------------------------------------------\n",
      "rush_hour      1.0142      0.002    666.846      0.000       1.011       1.017\n",
      "late_night     0.9706      0.001    808.105      0.000       0.968       0.973\n",
      "weekend        0.9550      0.001    657.091      0.000       0.952       0.958\n",
      "heavy_rain     0.6659      0.005    143.271      0.000       0.657       0.675\n",
      "==============================================================================\n",
      "Omnibus:                    58421.936   Durbin-Watson:                   0.465\n",
      "Prob(Omnibus):                  0.000   Jarque-Bera (JB):            61883.582\n",
      "Skew:                           0.689   Prob(JB):                         0.00\n",
      "Kurtosis:                       2.499   Cond. No.                         3.89\n",
      "==============================================================================\n",
      "\n",
      "Notes:\n",
      "[1] R² is computed without centering (uncentered) since the model does not contain a constant.\n",
      "[2] Standard Errors assume that the covariance matrix of the errors is correctly specified.\n"
     ]
    }
   ],
   "source": [
    "X = sm.add_constant(X1)\n",
    "\n",
    "#Here, y1 is changed to y2\n",
    "model1 = sm.OLS(y2, X1).fit()\n",
    "\n",
    "print(model1.summary())"
   ]
  },
  {
   "cell_type": "markdown",
   "id": "8804a88d-915a-4640-9beb-dd4a9d4f64c4",
   "metadata": {},
   "source": [
    "Here, XGBoost is used to predict the surge multiplier given the same variables from before. It has a high accuracy rate given the low MSE. "
   ]
  },
  {
   "cell_type": "code",
   "execution_count": 60,
   "id": "da37c54e-0d12-416a-8cec-3dda4f118f82",
   "metadata": {},
   "outputs": [
    {
     "name": "stdout",
     "output_type": "stream",
     "text": [
      "Mean Squared Error: 0.008379337780335701\n"
     ]
    }
   ],
   "source": [
    "#Importing below because I don't want to cause issues with the rest of code\n",
    "import xgboost as xg\n",
    "\n",
    "#Creating same variables as before for consistency\n",
    "X1 = merged_df[['rush_hour', 'late_night', 'day_of_week', 'heavy_rain']]\n",
    "X2 = merged_df[['rush_hour']]\n",
    "y1 = merged_df['surge_multiplier']\n",
    "y2 = merged_df['normalized_price']\n",
    "\n",
    "#Splits into training and testing data with 20% of the data for testing\n",
    "#Should I use the random state I initialized above? \n",
    "X_train, X_test, y_train, y_test = train_test_split(X1, y1, test_size=0.2, random_state=42)\n",
    "\n",
    "#Creates an XG Boost regressor because this is a regression task\n",
    "xgb_model = xg.XGBRegressor()\n",
    "\n",
    "#Fits the model with the training and testing data\n",
    "xgb_model.fit(X_train, y_train)\n",
    "\n",
    "#After the model is created, it makes a prediction using our test data\n",
    "y_pred = xgb_model.predict(X_test)\n",
    "\n",
    "#We can use our predicted data from the model and the test data to compute accuracy with MSE\n",
    "mse = mean_squared_error(y_test, y_pred)\n",
    "print(\"Mean Squared Error:\", mse)"
   ]
  },
  {
   "cell_type": "markdown",
   "id": "5519c8d1-28aa-4b2d-b753-03f94f159454",
   "metadata": {},
   "source": [
    "Unfortunately, predicting normalized price given the current configuration is not successful. The high MSE indicates that the model is not performing well. "
   ]
  },
  {
   "cell_type": "code",
   "execution_count": 43,
   "id": "1d4b8382-7795-40ef-9370-ecbb200eac03",
   "metadata": {},
   "outputs": [
    {
     "name": "stdout",
     "output_type": "stream",
     "text": [
      "Mean Squared Error: 199.4461334358675\n"
     ]
    }
   ],
   "source": [
    "#Comments are same as above, but swapped y1 for y2\n",
    "X_train, X_test, y_train, y_test = train_test_split(X1, y2, test_size=0.2, random_state=42)\n",
    "\n",
    "xgb_model = xg.XGBRegressor()\n",
    "\n",
    "xgb_model.fit(X_train, y_train)\n",
    "\n",
    "y_pred = xgb_model.predict(X_test)\n",
    "\n",
    "mse = mean_squared_error(y_test, y_pred)\n",
    "print(\"Mean Squared Error:\", mse)"
   ]
  },
  {
   "cell_type": "markdown",
   "id": "8962f988-0ff7-44e9-ba70-f8fddbd21439",
   "metadata": {},
   "source": [
    "Here, it is clear that for predicting the surge multiplier, the only variable that has really any impact at all is rush hour as I have removed the others from the training process. Either that or something in the configuration is wrong. "
   ]
  },
  {
   "cell_type": "code",
   "execution_count": 44,
   "id": "cb0bf201-4258-4f82-a575-777a3b53e0af",
   "metadata": {},
   "outputs": [
    {
     "name": "stdout",
     "output_type": "stream",
     "text": [
      "Mean Squared Error: 0.008379071446232664\n"
     ]
    }
   ],
   "source": [
    "#Swapped y2 for y1, X1 for X2\n",
    "X_train, X_test, y_train, y_test = train_test_split(X2, y1, test_size=0.2, random_state=42)\n",
    "\n",
    "xgb_model = xg.XGBRegressor()\n",
    "\n",
    "xgb_model.fit(X_train, y_train)\n",
    "\n",
    "y_pred = xgb_model.predict(X_test)\n",
    "\n",
    "mse = mean_squared_error(y_test, y_pred)\n",
    "print(\"Mean Squared Error:\", mse)"
   ]
  },
  {
   "cell_type": "code",
   "execution_count": 61,
   "id": "fb280605-dde0-45c0-96a0-a46a0bcb0073",
   "metadata": {},
   "outputs": [
    {
     "name": "stdout",
     "output_type": "stream",
     "text": [
      "     Variable      Mean  Standard Deviation  Range\n",
      "0   rush_hour  0.193847            0.395311    1.0\n",
      "1  late_night  0.312263            0.463417    1.0\n",
      "2  heavy_rain  0.020862            0.142922    1.0\n",
      "3     weekend  0.213055            0.409467    1.0\n"
     ]
    }
   ],
   "source": [
    "# Define the variables used in the analysis\n",
    "variables = ['rush_hour', 'late_night', 'heavy_rain', 'weekend']\n",
    "\n",
    "# Calculate summary statistics for each variable\n",
    "summary_stats = {\n",
    "    'Variable': [],\n",
    "    'Mean': [],\n",
    "    'Standard Deviation': [],\n",
    "    'Range': []\n",
    "}\n",
    "\n",
    "for variable in variables:\n",
    "    summary_stats['Variable'].append(variable)\n",
    "    summary_stats['Mean'].append(merged_df[variable].mean())\n",
    "    summary_stats['Standard Deviation'].append(merged_df[variable].std())\n",
    "    summary_stats['Range'].append(merged_df[variable].max() - merged_df[variable].min())\n",
    "\n",
    "# Create a DataFrame from the summary statistics\n",
    "summary_df = pd.DataFrame(summary_stats)\n",
    "\n",
    "# Print the summary DataFrame\n",
    "print(summary_df)"
   ]
  },
  {
   "cell_type": "code",
   "execution_count": 65,
   "id": "090ac16c-e800-4be7-b814-091823335981",
   "metadata": {},
   "outputs": [
    {
     "name": "stdout",
     "output_type": "stream",
     "text": [
      "Summary Statistics\n",
      "\n",
      "     Variable      Mean  Standard Deviation  Median  Maximum   Count\n",
      "0   rush_hour  0.193847            0.395311     0.0      1.0  690107\n",
      "1  late_night  0.312263            0.463417     0.0      1.0  690107\n",
      "2  heavy_rain  0.020862            0.142922     0.0      1.0  690107\n",
      "3     weekend  0.213055            0.409467     0.0      1.0  690107\n"
     ]
    }
   ],
   "source": [
    "# Define the variables used in the analysis\n",
    "variables = ['rush_hour', 'late_night', 'heavy_rain', 'weekend']\n",
    "\n",
    "# Calculate summary statistics for each variable\n",
    "summary_stats = {\n",
    "    'Variable': [],\n",
    "    'Mean': [],\n",
    "    'Standard Deviation': [],\n",
    "    'Median': [],\n",
    "    'Maximum': [],\n",
    "    'Count': []\n",
    "}\n",
    "\n",
    "for variable in variables:\n",
    "    summary_stats['Variable'].append(variable)\n",
    "    summary_stats['Mean'].append(merged_df[variable].mean())\n",
    "    summary_stats['Standard Deviation'].append(merged_df[variable].std())\n",
    "    summary_stats['Median'].append(merged_df[variable].median())\n",
    "    summary_stats['Maximum'].append(merged_df[variable].max())\n",
    "    summary_stats['Count'].append(merged_df[variable].count())\n",
    "\n",
    "# Create a DataFrame from the summary statistics\n",
    "summary_df = pd.DataFrame(summary_stats)\n",
    "\n",
    "# Print the title\n",
    "print(\"Summary Statistics\\n\")\n",
    "\n",
    "# Print the summary DataFrame\n",
    "print(summary_df)"
   ]
  },
  {
   "cell_type": "code",
   "execution_count": null,
   "id": "e7f964ec-e2bd-4786-94b4-d9b38033e52a",
   "metadata": {},
   "outputs": [],
   "source": []
  }
 ],
 "metadata": {
  "kernelspec": {
   "display_name": "Python 3 (ipykernel)",
   "language": "python",
   "name": "python3"
  },
  "language_info": {
   "codemirror_mode": {
    "name": "ipython",
    "version": 3
   },
   "file_extension": ".py",
   "mimetype": "text/x-python",
   "name": "python",
   "nbconvert_exporter": "python",
   "pygments_lexer": "ipython3",
   "version": "3.9.18"
  }
 },
 "nbformat": 4,
 "nbformat_minor": 5
}
